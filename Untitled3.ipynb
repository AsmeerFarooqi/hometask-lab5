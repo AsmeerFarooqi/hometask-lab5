{
 "cells": [
  {
   "cell_type": "code",
   "execution_count": null,
   "id": "d57201b2-63e4-4704-be31-44365f818cff",
   "metadata": {},
   "outputs": [],
   "source": [
    "# Home task\n",
    "#2022f-bse-150\n",
    "import pandas as pd\n",
    "from sklearn.model_selection import train_test_split\n",
    "from sklearn.tree import DecisionTreeClassifier\n",
    "from sklearn.metrics import confusion_matrix, accuracy_score\n",
    "\n",
    "# Creating the dataset\n",
    "data = {\n",
    "    'gender': [0, 1, 1, 1, 0, 1],  # male=0, female=1\n",
    "    'part_time_job': [0, 0, 0, 0, 0, 0],  # False=0, True=1\n",
    "    'absence_days': [0, 2, 3, 1, 0, 0],\n",
    "    'extracurricular_activities': [0, 0, 1, 0, 0, 0],  # False=0, True=1\n",
    "    'study_hours_per_week': [10, 15, 12, 8, 5, 7],\n",
    "    'passed_last_exam': [1, 0, 1, 0, 1, 1]  # 1=Passed, 0=Failed\n",
    "}\n",
    "\n",
    "# Create DataFrame\n",
    "df = pd.DataFrame(data)\n",
    "\n",
    "# Features and target variable\n",
    "X = df[['gender', 'part_time_job', 'absence_days', 'extracurricular_activities', 'study_hours_per_week']]\n",
    "y = df['passed_last_exam']\n",
    "\n",
    "# Split the data into training and testing sets\n",
    "X_train, X_test, y_train, y_test = train_test_split(X, y, test_size=0.33, random_state=42)\n",
    "\n",
    "# Initialize the Decision Tree classifier\n",
    "model = DecisionTreeClassifier(random_state=42)\n",
    "\n",
    "# Train the model\n",
    "model.fit(X_train, y_train)\n",
    "\n",
    "# Make predictions\n",
    "y_pred = model.predict(X_test)\n",
    "\n",
    "# Calculate the confusion matrix\n",
    "cm = confusion_matrix(y_test, y_pred)\n",
    "\n",
    "# Calculate the accuracy\n",
    "accuracy = accuracy_score(y_test, y_pred)\n",
    "print(f\"Accuracy: {accuracy}\")\n",
    "\n",
    "# Print the confusion matrix\n",
    "print(\"Confusion Matrix:\")\n",
    "print(cm)\n",
    "\n",
    "# Example prediction for a new student\n",
    "# Gender: Female (1), Part-time job: No (0), Absence days: 1, Extracurricular activities: No (0), Study hours per week: 10\n",
    "new_student = [[1, 0, 1, 0, 10]]\n",
    "prediction = model.predict(new_student)\n",
    "print(f\"Prediction for the new student: {'Passed the last exam' if prediction[0] == 1 else 'Failed the last exam'}\")\n"
   ]
  },
  {
   "cell_type": "code",
   "execution_count": null,
   "id": "4c037670-f6e1-462f-bf1e-99ba3a80f7ec",
   "metadata": {},
   "outputs": [],
   "source": []
  },
  {
   "cell_type": "code",
   "execution_count": null,
   "id": "7fbc4146-e3b5-4531-9bd1-394ed1ef7d92",
   "metadata": {},
   "outputs": [],
   "source": []
  }
 ],
 "metadata": {
  "kernelspec": {
   "display_name": "Python 3 (ipykernel)",
   "language": "python",
   "name": "python3"
  },
  "language_info": {
   "codemirror_mode": {
    "name": "ipython",
    "version": 3
   },
   "file_extension": ".py",
   "mimetype": "text/x-python",
   "name": "python",
   "nbconvert_exporter": "python",
   "pygments_lexer": "ipython3",
   "version": "3.12.7"
  }
 },
 "nbformat": 4,
 "nbformat_minor": 5
}
